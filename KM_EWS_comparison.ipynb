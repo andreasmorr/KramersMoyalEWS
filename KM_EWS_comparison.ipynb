{
 "cells": [
  {
   "cell_type": "code",
   "execution_count": 95,
   "id": "2d51799f",
   "metadata": {},
   "outputs": [
    {
     "data": {
      "text/plain": [
       "<module 'KM_EWS_methods' from '/Users/andreasmorr/Library/Mobile Documents/com~apple~CloudDocs/PhD Studium/Eigene Papers/KramersMoyalEWS/KramersMoyalEWS/KM_EWS_methods.py'>"
      ]
     },
     "execution_count": 95,
     "metadata": {},
     "output_type": "execute_result"
    }
   ],
   "source": [
    "import numpy as np\n",
    "import pandas as pd\n",
    "from scipy import optimize\n",
    "import matplotlib.pyplot as plt\n",
    "import matplotlib\n",
    "from matplotlib.patches import Rectangle\n",
    "import seaborn as sns\n",
    "import time\n",
    "import KM_EWS_methods\n",
    "import importlib\n",
    "importlib.reload(KM_EWS_methods)"
   ]
  },
  {
   "attachments": {},
   "cell_type": "markdown",
   "id": "b8bba9c2",
   "metadata": {},
   "source": [
    "Plot specifications"
   ]
  },
  {
   "cell_type": "code",
   "execution_count": 96,
   "id": "5664af79",
   "metadata": {},
   "outputs": [],
   "source": [
    "plt.rcParams['pgf.texsystem'] = 'pdflatex'\n",
    "plt.rcParams.update({'font.family': 'serif',\n",
    "                     'text.usetex': True,\n",
    "                     'font.serif': ['Helvetica'],\n",
    "                     'font.size': 2*8,\n",
    "                     'axes.labelsize': 2*8,\n",
    "                     'axes.titlesize': 2*12,\n",
    "                     'figure.titlesize': 2*14})"
   ]
  },
  {
   "attachments": {},
   "cell_type": "markdown",
   "id": "c7937680",
   "metadata": {},
   "source": [
    "OU-data generator"
   ]
  },
  {
   "cell_type": "code",
   "execution_count": 97,
   "id": "9954fb84",
   "metadata": {},
   "outputs": [],
   "source": [
    "def OU_sample(T,Delta_t,lambda_,sigma_=1):\n",
    "    this_sample = np.zeros(round(T/Delta_t))\n",
    "    this_sample[0] = np.random.normal(0,np.sqrt(sigma_**2/(2*lambda_)))\n",
    "    for i in range(round(T/Delta_t) - 1):\n",
    "        this_sample[i+1] = np.exp(-lambda_*Delta_t)*this_sample[i] + np.sqrt(sigma_**2/(2*lambda_)*(1-np.exp(-2*lambda_*Delta_t)))*np.random.normal()\n",
    "    return this_sample"
   ]
  },
  {
   "attachments": {},
   "cell_type": "markdown",
   "id": "0e8a7e71",
   "metadata": {},
   "source": [
    "Calculate the 95% interval of the estimator distributions"
   ]
  },
  {
   "cell_type": "code",
   "execution_count": 98,
   "id": "7c527233",
   "metadata": {},
   "outputs": [],
   "source": [
    "def estimator_dist_width(estimator, lambda_, T, Delta_t, samplesize = 1000, confidence=0.95):\n",
    "    samples = [OU_sample(T, Delta_t, lambda_) for i in range(samplesize)]\n",
    "    estimator_results = [estimator(this_sample) for this_sample in samples]\n",
    "    estimator_results.sort()\n",
    "    return [estimator_results[round(samplesize*(1-confidence)/2)],estimator_results[round(samplesize*(confidence+(1-confidence)/2))]]"
   ]
  },
  {
   "attachments": {},
   "cell_type": "markdown",
   "id": "9f799a8b",
   "metadata": {},
   "source": [
    "Check for a selection of Ts and Delta_ts whether the confidence intervals overlap"
   ]
  },
  {
   "cell_type": "code",
   "execution_count": 99,
   "id": "7e007a55",
   "metadata": {},
   "outputs": [],
   "source": [
    "Ts = [50, 75, 100, 125, 150]\n",
    "Delta_ts = [1, 0.8, 0.6, 0.4, 0.2, 0.1]\n",
    "lambda_start = 1\n",
    "lambda_end = 0.1\n",
    "\n",
    "variance_df = [[] for i in range(len(Ts))]\n",
    "ac1_df = [[] for i in range(len(Ts))]\n",
    "lambda_df = [[] for i in range(len(Ts))]\n",
    "for i in range(len(Ts)):\n",
    "    for Delta_t in Delta_ts:\n",
    "        variance_df[i].append(estimator_dist_width(KM_EWS_methods.variance_estimator, lambda_=lambda_start, T=Ts[i], Delta_t=Delta_t)[1]<estimator_dist_width(KM_EWS_methods.variance_estimator, lambda_=lambda_end, T=Ts[i], Delta_t=Delta_t)[0])\n",
    "        ac1_df[i].append(estimator_dist_width(KM_EWS_methods.ac1_estimator, lambda_=lambda_start, T=Ts[i], Delta_t=Delta_t)[1]<estimator_dist_width(KM_EWS_methods.ac1_estimator, lambda_=lambda_end, T=Ts[i], Delta_t=Delta_t)[0])\n",
    "        lambda_df[i].append(estimator_dist_width(KM_EWS_methods.lambda_estimator, lambda_=lambda_start, T=Ts[i], Delta_t=Delta_t)[0]>estimator_dist_width(KM_EWS_methods.lambda_estimator, lambda_=lambda_end, T=Ts[i], Delta_t=Delta_t)[1])\n",
    "\n",
    "variance_df = pd.DataFrame(variance_df,index=Ts, columns=Delta_ts)\n",
    "ac1_df = pd.DataFrame(ac1_df,index=Ts, columns=Delta_ts)\n",
    "lambda_df = pd.DataFrame(lambda_df,index=Ts, columns=Delta_ts)"
   ]
  },
  {
   "attachments": {},
   "cell_type": "markdown",
   "id": "4768dced",
   "metadata": {},
   "source": [
    "Plot heat maps"
   ]
  },
  {
   "cell_type": "code",
   "execution_count": 100,
   "id": "b158467c",
   "metadata": {},
   "outputs": [
    {
     "data": {
      "image/png": "[encoded data removed]",
      "text/plain": [
       "<Figure size 684x200 with 3 Axes>"
      ]
     },
     "metadata": {},
     "output_type": "display_data"
    }
   ],
   "source": [
    "cmap = matplotlib.colormaps[\"RdYlGn\"]\n",
    "fig, axs = plt.subplots(1, 3, figsize=(2*3.42, 2*1))\n",
    "axs[0].set_title(\"Variance\")\n",
    "sns.heatmap(variance_df, ax = axs[0],cbar=False, cmap=cmap, vmin=0, vmax=1, linewidths=0.01)\n",
    "axs[0].set_xticklabels(axs[0].get_xticklabels(), rotation = 45)\n",
    "axs[0].add_patch(Rectangle((5,2),1,1,fill=False,edgecolor=\"black\", lw=2))\n",
    "axs[0].set_xlim([-0.1,6.1])\n",
    "axs[0].set_ylim([5.1,-0.1])\n",
    "axs[0].set_xlabel(\"$\\Delta t$\")\n",
    "axs[0].set_ylabel(\"Windowsize\")\n",
    "axs[1].set_title(\"AC(1)\")\n",
    "sns.heatmap(ac1_df, ax = axs[1],cbar=False, cmap=cmap, vmin=0, vmax=1, linewidths=0.01)\n",
    "axs[1].set_xticklabels(axs[1].get_xticklabels(), rotation = 45)\n",
    "axs[1].add_patch(Rectangle((5,2),1,1,fill=False,edgecolor=\"black\", lw=2))\n",
    "axs[1].set_xlim([-0.1,6.1])\n",
    "axs[1].set_ylim([5.1,-0.1])\n",
    "axs[1].set_xlabel(\"$\\Delta t$\")\n",
    "axs[1].set_yticks([])\n",
    "axs[2].set_title(\"$\\hat\\lambda$\")\n",
    "sns.heatmap(lambda_df, ax = axs[2],cbar=False, cmap=cmap, vmin=0, vmax=1, linewidths=0.01)\n",
    "axs[2].set_xticklabels(axs[2].get_xticklabels(), rotation = 45)\n",
    "axs[2].add_patch(Rectangle((5,2),1,1,fill=False,edgecolor=\"black\", lw=2))\n",
    "axs[2].set_xlim([-0.1,6.1])\n",
    "axs[2].set_ylim([5.1,-0.1])\n",
    "axs[2].set_xlabel(\"$\\Delta t$\")\n",
    "axs[2].set_yticks([])\n",
    "\n",
    "\n",
    "plt.show()\n",
    "#fig.savefig(\"Plots/EstimatorSensitivity\" + time.strftime(\"%Y%m%d-%H%M%S\") + '.pdf', transparent=True, bbox_inches='tight')"
   ]
  },
  {
   "attachments": {},
   "cell_type": "markdown",
   "id": "4703f302",
   "metadata": {},
   "source": [
    "Plot histograms for one choice of T and Delta_t"
   ]
  },
  {
   "cell_type": "code",
   "execution_count": 103,
   "id": "ad19ca35",
   "metadata": {},
   "outputs": [
    {
     "data": {
      "image/png": "[encoded data removed]",
      "text/plain": [
       "<Figure size 684x300 with 3 Axes>"
      ]
     },
     "metadata": {},
     "output_type": "display_data"
    }
   ],
   "source": [
    "T = 100\n",
    "Delta_t = 0.1\n",
    "samplesize = 1000\n",
    "confidence = 0.95\n",
    "estimators = [KM_EWS_methods.variance_estimator, KM_EWS_methods.ac1_estimator, KM_EWS_methods.lambda_estimator]\n",
    "lambda_start = 1\n",
    "lambda_end = 0.1\n",
    "\n",
    "color_start = \"darkblue\"\n",
    "color_end = \"darkviolet\"\n",
    "\n",
    "\n",
    "props = dict(edgecolor=\"none\", facecolor='white', alpha=0)\n",
    "fig, axs = plt.subplots(1, 3, figsize=(2*3.42, 2*1.5),sharey=True)\n",
    "samples_start = [OU_sample(T, Delta_t, lambda_=lambda_start) for i in range(samplesize)]\n",
    "samples_end = [OU_sample(T, Delta_t, lambda_=lambda_end) for i in range(samplesize)]\n",
    "for i in range(3):\n",
    "    estimator_results_start = np.array([estimators[i](this_sample) for this_sample in samples_start])\n",
    "    estimator_results_start.sort()\n",
    "    estimator_results_end = np.array([estimators[i](this_sample) for this_sample in samples_end])\n",
    "    estimator_results_end.sort()\n",
    "    if i == 2:\n",
    "        estimator_results_start = estimator_results_start/Delta_t\n",
    "        estimator_results_end = estimator_results_end/Delta_t\n",
    "        axs[i].axvline(estimator_results_start[round(samplesize*(1-confidence)/2)],color=color_start,linestyle = \"dashed\")\n",
    "        axs[i].axvline(estimator_results_end[round(samplesize*(confidence+(1-confidence)/2))],color=color_end,linestyle = \"dashed\")\n",
    "        axs[i].scatter([estimator_results_start[round(samplesize*(1-confidence)/2)]],[samplesize/3],c=color_start,marker=\">\")\n",
    "        axs[i].scatter([estimator_results_end[round(samplesize*(confidence+(1-confidence)/2))]],[samplesize/3],c=color_end,marker=\"<\")\n",
    "    else:\n",
    "        axs[i].axvline(estimator_results_end[round(samplesize*(1-confidence)/2)],color=color_end,linestyle = \"dashed\")\n",
    "        axs[i].axvline(estimator_results_start[round(samplesize*(confidence+(1-confidence)/2))],color=color_start,linestyle = \"dashed\")\n",
    "        axs[i].scatter([estimator_results_end[round(samplesize*(1-confidence)/2)]],[samplesize/3],c=color_end,marker=\">\")\n",
    "        axs[i].scatter([estimator_results_start[round(samplesize*(confidence+(1-confidence)/2))]],[samplesize/3],c=color_start,marker=\"<\")\n",
    "    axs[i].hist(estimator_results_start,histtype=\"step\",color=color_start)\n",
    "    axs[i].hist(estimator_results_end,histtype=\"step\",color=color_end)\n",
    "axs[0].set_title(\"Variance\")\n",
    "axs[0].scatter([1/(2*lambda_start)],[0],c=color_start,marker=\"D\")\n",
    "axs[0].scatter([1/(2*lambda_end)],[0],c=color_end,marker=\"D\")\n",
    "axs[0].set_ylabel(\"Distribution\")\n",
    "axs[0].text(0.8, 0.94, \"(a)\", transform=axs[0].transAxes, verticalalignment='top', bbox=props)\n",
    "axs[1].set_title(\"AC(1)\")\n",
    "axs[1].scatter([np.exp(-lambda_start*Delta_t)],[0],c=color_start,marker=\"D\")\n",
    "axs[1].scatter([np.exp(-lambda_end*Delta_t)],[0],c=color_end,marker=\"D\")\n",
    "axs[1].text(0.8, 0.94, \"(b)\", transform=axs[1].transAxes, verticalalignment='top', bbox=props)\n",
    "axs[2].set_title(\"$\\hat\\lambda$\")\n",
    "axs[2].scatter([lambda_start],[0],c=color_start,marker=\"D\")\n",
    "axs[2].scatter([lambda_end],[0],c=color_end,marker=\"D\")\n",
    "axs[2].text(0.8, 0.94, \"(c)\", transform=axs[2].transAxes, verticalalignment='top', bbox=props)\n",
    "\n",
    "plt.show()\n",
    "#fig.savefig(\"Plots/EstimatorDistributions\" + time.strftime(\"%Y%m%d-%H%M%S\") + '.pdf', transparent=True, bbox_inches='tight')"
   ]
  },
  {
   "attachments": {},
   "cell_type": "markdown",
   "id": "499cf25b",
   "metadata": {},
   "source": [
    "Plot lambda estimator distributions for different parameter choices"
   ]
  },
  {
   "cell_type": "code",
   "execution_count": 102,
   "id": "ca8b0c92",
   "metadata": {},
   "outputs": [
    {
     "name": "stdout",
     "output_type": "stream",
     "text": [
      "0.20157890951808446\n",
      "[50, 0.14296812859736951, 0.5]\n",
      "0.18092134988924188\n",
      "[50, 0.28593625719473903, 0.5]\n",
      "0.16533853809120524\n",
      "[50, 0.4289043857921085, 0.5]\n",
      "0.14970449045437875\n",
      "[50, 0.5718725143894781, 0.5]\n",
      "0.13432150777974383\n",
      "[50, 0.7148406429868475, 0.5]\n",
      "0.12082554344684826\n",
      "[50, 0.857808771584217, 0.5]\n",
      "0.07547092653222666\n",
      "[50, 1.429681285973695, 0.5]\n",
      "0.02300128339336697\n",
      "[50, 2.85936257194739, 0.5]\n",
      "0.00944099101869021\n",
      "[50, 4.289043857921085, 0.5]\n",
      "0.005462627929582974\n",
      "[50, 5.71872514389478, 0.5]\n",
      "0.0032389940461269224\n",
      "[50, 7.148406429868475, 0.5]\n",
      "0.0021614471605670396\n",
      "[50, 8.57808771584217, 0.5]\n",
      "0.0014984560627659068\n",
      "[50, 10.007769001815864, 0.5]\n",
      "0.0010992425802497413\n",
      "[50, 11.43745028778956, 0.5]\n",
      "0.0010992425802497413\n"
     ]
    }
   ],
   "source": [
    "bin_numbers = [50]\n",
    "bws = [0.1,0.2,0.3,0.4,0.5,0.6,1,2,3,4,5,6,7,8]\n",
    "centerkmfractions = [0.5]\n",
    "\n",
    "samplesize = 1000\n",
    "Delta_t = 0.1\n",
    "lambda_ = 1\n",
    "confidence = 0.95\n",
    "\n",
    "samples = [OU_sample(T, Delta_t, lambda_) for i in range(samplesize)]\n",
    "sample_std = np.mean(np.array([np.std(samples[i]) for i in range(samplesize)]))\n",
    "\n",
    "def lambda_dist_width(params, samples, Delta_t):\n",
    "    bin_number = int(params[0])\n",
    "    bw = params[1]\n",
    "    centerkmfraction = params[2]\n",
    "    estimator_results = [KM_EWS_methods.lambda_estimator(this_sample, Delta_t, bin_number, bw, centerkmfraction) for this_sample in samples]\n",
    "    estimator_results.sort()\n",
    "    return np.std(estimator_results)\n",
    "\n",
    "lowest_width = 10\n",
    "for bin_number in bin_numbers:\n",
    "    for bw in bws:\n",
    "        for centerkmfraction in centerkmfractions:\n",
    "            width = lambda_dist_width([bin_number, bw, centerkmfraction], samples, Delta_t)\n",
    "            if width < lowest_width:\n",
    "                lowest_width = width\n",
    "            print(width)\n",
    "            print([bin_number, bw/sample_std, centerkmfraction])\n",
    "print(lowest_width)\n",
    "#print(optimize.fmin(lambda_dist_width, [40, 0.05, 0.6], args=(samples, Delta_t)).x)"
   ]
  },
  {
   "cell_type": "code",
   "execution_count": null,
   "id": "0f7a94c9",
   "metadata": {},
   "outputs": [],
   "source": []
  }
 ],
 "metadata": {
  "kernelspec": {
   "display_name": "base",
   "language": "python",
   "name": "python3"
  },
  "language_info": {
   "codemirror_mode": {
    "name": "ipython",
    "version": 3
   },
   "file_extension": ".py",
   "mimetype": "text/x-python",
   "name": "python",
   "nbconvert_exporter": "python",
   "pygments_lexer": "ipython3",
   "version": "3.9.7"
  },
  "vscode": {
   "interpreter": {
    "hash": "c6e4e9f98eb68ad3b7c296f83d20e6de614cb42e90992a65aa266555a3137d0d"
   }
  }
 },
 "nbformat": 4,
 "nbformat_minor": 5
}
